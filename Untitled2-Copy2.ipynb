{
 "cells": [
  {
   "cell_type": "code",
   "execution_count": 109,
   "id": "a7627ffb-ba9d-45e9-91ec-6fdd4980f27e",
   "metadata": {},
   "outputs": [],
   "source": [
    "import os\n",
    "import pandas as pd\n",
    "import matplotlib.pyplot as plt\n",
    "import matplotlib as mpl\n",
    "import numpy as np\n",
    "from sklearn.model_selection import train_test_split\n",
    "from sklearn.model_selection import GridSearchCV\n",
    "from sklearn.preprocessing import PolynomialFeatures\n",
    "from sklearn.preprocessing import RobustScaler\n",
    "from sklearn.linear_model import SGDClassifier\n",
    "from sklearn.ensemble import RandomForestClassifier\n",
    "from sklearn.compose import ColumnTransformer\n",
    "from sklearn.pipeline import Pipeline\n",
    "from sklearn.preprocessing import StandardScaler, OneHotEncoder\n",
    "from sklearn.linear_model import LogisticRegression\n",
    "from sklearn.pipeline import make_pipeline\n",
    "from sklearn.metrics import roc_curve\n",
    "from sklearn.metrics import confusion_matrix\n",
    "from sklearn.metrics import precision_score, recall_score\n",
    "from sklearn. metrics import classification_report\n",
    "from sklearn.metrics import accuracy_score\n",
    "from sklearn.metrics import roc_auc_score\n",
    "from sklearn.feature_selection import VarianceThreshold\n",
    "from sklearn.feature_selection import SelectKBest, chi2\n",
    "from sklearn.feature_selection import SelectFromModel\n",
    "from sklearn.preprocessing import MinMaxScaler\n",
    "from sklearn.neighbors import KNeighborsClassifier\n",
    "from sklearn.tree import DecisionTreeClassifier\n",
    "from sklearn.svm import LinearSVC\n",
    "from sklearn.svm import SVC\n",
    "from sklearn.svm import NuSVC\n",
    "from sklearn.neighbors import NearestNeighbors\n",
    "from sklearn.neighbors import RadiusNeighborsClassifier\n",
    "from sklearn.ensemble import AdaBoostClassifier\n",
    "from sklearn.ensemble import VotingClassifier\n",
    "from sklearn.ensemble import BaggingClassifier, StackingClassifier\n",
    "from sklearn.gaussian_process.kernels import RBF\n",
    "from sklearn.gaussian_process import GaussianProcessClassifier\n",
    "from sklearn.discriminant_analysis import QuadraticDiscriminantAnalysis\n",
    "from sklearn.neural_network import MLPClassifier\n",
    "from sklearn.naive_bayes import GaussianNB\n",
    "from sklearn.naive_bayes import CategoricalNB\n",
    "from sklearn.linear_model import LinearRegression\n",
    "from sklearn.linear_model import Ridge\n",
    "from sklearn import linear_model\n",
    "from sklearn.linear_model import SGDRegressor\n",
    "from sklearn.ensemble import GradientBoostingRegressor\n",
    "from sklearn.ensemble import RandomForestRegressor\n",
    "from sklearn.linear_model import LinearRegression\n",
    "from sklearn.ensemble import VotingRegressor\n",
    "from sklearn import svm\n",
    "from sklearn.svm import SVR\n",
    "from sklearn.metrics import mean_squared_error, r2_score, mean_absolute_error, median_absolute_error\n",
    "import tensorflow as tf\n",
    "from tensorflow import keras\n",
    "import tempfile\n",
    "import matplotlib\n",
    "from sklearn.decomposition import PCA\n",
    "import seaborn as sns\n",
    "%matplotlib inline"
   ]
  },
  {
   "cell_type": "code",
   "execution_count": 254,
   "id": "02feff09-6925-4a87-bd31-78995333b7a9",
   "metadata": {},
   "outputs": [
    {
     "name": "stdout",
     "output_type": "stream",
     "text": [
      "Training cases: 268\n",
      "Test cases: 116\n"
     ]
    }
   ],
   "source": [
    "df = pd.read_csv(\"df_m1_lower_.csv\", sep=\";\")\n",
    "\n",
    "features = [\n",
    "            ##'diff_h_l_2',\n",
    "            #'diff_o_c_2',\n",
    "            #'diff_h_o_2',\n",
    "            #'diff_c_l_2',\n",
    "            ##'vol_total_2',\n",
    "            ##'vol_buy_2',\n",
    "            ##'vol_sell_2',\n",
    "            ##'vol_other_2',\n",
    "            ##'nb_tick_total_2',\n",
    "            ##'nb_tick_buy_2',\n",
    "            ##'nb_tick_sell_2',\n",
    "            ##'nb_tick_other_2',\n",
    "            ##'nb_price_changed_2',            \n",
    "            ##'diff_h_l_1',\n",
    "            #'diff_o_c_1',\n",
    "            #'diff_h_o_1',\n",
    "            #'diff_c_l_1',\n",
    "            ##'vol_total_1',\n",
    "            ##'vol_buy_1',\n",
    "            ##'vol_sell_1',\n",
    "            ##'vol_other_1',\n",
    "            ##'nb_tick_total_1',\n",
    "            #'nb_tick_buy_1',\n",
    "            ##'nb_tick_sell_1',\n",
    "            ##'nb_tick_other_1',\n",
    "            #\"'nb_price_changed_1',            \n",
    "            'diff_h_l_0',\n",
    "            #'diff_o_c_0',\n",
    "            #'diff_h_o_0',\n",
    "            #'diff_c_l_0',\n",
    "            #'ratio_diff_h_l_0',\n",
    "            #'ratio_diff_o_c_0',\n",
    "            #'ratio_diff_h_o_0',\n",
    "            #'ratio_diff_c_l_0',\n",
    "            'vol_total_0',\n",
    "            'vol_buy_0',\n",
    "            'vol_sell_0',\n",
    "            'vol_other_0',\n",
    "            #'ratio_vol_buy_0',\n",
    "            #'ratio_vol_sell_0',\n",
    "            #'ratio_vol_other_0',\n",
    "            'nb_tick_total_0',\n",
    "            'nb_tick_buy_0',\n",
    "            'nb_tick_sell_0',\n",
    "            'nb_tick_other_0',\n",
    "            #'ratio_nb_tick_buy_0',\n",
    "            #'ratio_nb_tick_sell_0',\n",
    "            #'ratio_nb_tick_other_0',\n",
    "            'nb_price_changed_0',\n",
    "            #'ratio_nb_price_changed_0',\n",
    "            #'ratio_diff_h_l_2to0',\n",
    "            #'rsi2',\n",
    "            #'rsi1',\n",
    "            #'rsi0',\n",
    "            #'rsi2_long',\n",
    "            #'rsi1_long',\n",
    "            #'rsi0_long',\n",
    "            #'std2',\n",
    "            #'std1',\n",
    "            #'std0',\n",
    "            #'std2_long',\n",
    "            #'std1_long',\n",
    "            #'std0_long',\n",
    "            #'diff_h_l_20',\n",
    "            #'diff_h_l_10',\n",
    "            'nb_tick_buy_vol_eq_1',\n",
    "            'nb_tick_sell_vol_eq_1',\n",
    "            ##'nb_tick_other_vol_eq_1',\n",
    "            ##'nb_tick_buy_vol_2_5',\n",
    "            ##'nb_tick_sell_vol_2_5',\n",
    "            ##'nb_tick_other_vol_2_5',\n",
    "            #'nb_tick_buy_vol_6_10',\n",
    "            #'nb_tick_sell_vol_6_10',\n",
    "            #'nb_tick_other_vol_6_10',\n",
    "            #'nb_tick_buy_vol_11_20',\n",
    "            #'nb_tick_sell_vol_11_20',\n",
    "            #'nb_tick_other_vol_11_20',\n",
    "            #'nb_tick_buy_vol_gt_20',\n",
    "            #'nb_tick_sell_vol_gt_20',\n",
    "            #'nb_tick_other_vol_gt_20'\n",
    "            ]\n",
    "\n",
    "label = 'diff_open_low_m1'\n",
    "X, y = df[features].values, df[label].values\n",
    "\n",
    "X_train, X_test, y_train, y_test = train_test_split(X, y, test_size=0.30, random_state=101)\n",
    "\n",
    "print('Training cases: %d\\nTest cases: %d' % (X_train.shape[0], X_test.shape[0]))"
   ]
  },
  {
   "cell_type": "code",
   "execution_count": 255,
   "id": "25d8ded9-1dc9-470d-8f1b-060be04cf54a",
   "metadata": {},
   "outputs": [
    {
     "name": "stdout",
     "output_type": "stream",
     "text": [
      "SVR()\n",
      "MSE: 2.9243163155082086\n",
      "MAE: 1.2461793522518974\n",
      "MedAE: 0.7355571559467057\n",
      "RMSE: 1.7100632489788816\n",
      "R2: -0.1138281783410855\n"
     ]
    },
    {
     "data": {
      "image/png": "[encoded data removed]",
      "text/plain": [
       "<Figure size 640x480 with 1 Axes>"
      ]
     },
     "metadata": {},
     "output_type": "display_data"
    }
   ],
   "source": [
    "# Fit a linear regression model on the training set\n",
    "model = SVR()\n",
    "model.fit(X_train, y_train)\n",
    "print (model)\n",
    "\n",
    "predictions = model.predict(X_test)\n",
    "\n",
    "mse = mean_squared_error(y_test, predictions)\n",
    "print(\"MSE:\", mse)\n",
    "print(\"MAE:\", mean_absolute_error(y_test, predictions))\n",
    "print(\"MedAE:\", median_absolute_error(y_test, predictions))\n",
    "\n",
    "rmse = np.sqrt(mse)\n",
    "print(\"RMSE:\", rmse)\n",
    "\n",
    "\n",
    "r2 = r2_score(y_test, predictions)\n",
    "print(\"R2:\", r2)\n",
    "\n",
    "plt.scatter(y_test, predictions)\n",
    "plt.xlabel('Actual Labels')\n",
    "plt.ylabel('Predicted Labels')\n",
    "\n",
    "\n",
    "plt.show()"
   ]
  },
  {
   "cell_type": "code",
   "execution_count": 263,
   "id": "e0be6d1b-c7a9-4864-a7b5-3c06c4ead85b",
   "metadata": {},
   "outputs": [
    {
     "name": "stdout",
     "output_type": "stream",
     "text": [
      "35\n",
      "6\n",
      "0.8536585365853658\n"
     ]
    }
   ],
   "source": [
    "w = 0\n",
    "l = 0\n",
    "for i in range(len(predictions)):\n",
    "    if predictions[i] > 1.2:\n",
    "        if y_test[i] < 0.6: l += 1\n",
    "        else: w +=1\n",
    "\n",
    "print(w)\n",
    "print(l)\n",
    "print(w/(w+l))"
   ]
  },
  {
   "cell_type": "code",
   "execution_count": 257,
   "id": "9ba48ca2-0bee-4c81-8056-e09a04e06a8f",
   "metadata": {},
   "outputs": [
    {
     "data": {
      "text/plain": [
       "116"
      ]
     },
     "execution_count": 257,
     "metadata": {},
     "output_type": "execute_result"
    }
   ],
   "source": [
    "len(predictions)"
   ]
  },
  {
   "cell_type": "code",
   "execution_count": 217,
   "id": "9c81b090-e803-48c7-9fb1-05d0fbb4d5b2",
   "metadata": {},
   "outputs": [
    {
     "data": {
      "image/png": "[encoded data removed]",
      "text/plain": [
       "<Figure size 640x480 with 1 Axes>"
      ]
     },
     "metadata": {},
     "output_type": "display_data"
    }
   ],
   "source": [
    "err_hist = np.abs(y_test - predictions)\n",
    "plt.hist(err_hist, bins=50)\n",
    "plt.show()"
   ]
  },
  {
   "cell_type": "code",
   "execution_count": 269,
   "id": "316b4099-d9c8-4693-9e81-3ff728a70367",
   "metadata": {},
   "outputs": [
    {
     "name": "stdout",
     "output_type": "stream",
     "text": [
      "MSE: 2.9148501873043644\n",
      "MAE: 1.2373538802881996\n",
      "MedAE: 0.7821188444151095\n",
      "RMSE: 1.707293234129499\n",
      "R2: -0.11022267223447324\n"
     ]
    },
    {
     "data": {
      "image/png": "[encoded data removed]",
      "text/plain": [
       "<Figure size 640x480 with 1 Axes>"
      ]
     },
     "metadata": {},
     "output_type": "display_data"
    }
   ],
   "source": [
    "model = make_pipeline(PolynomialFeatures(),\n",
    "                      RobustScaler(),\n",
    "                     SVR())\n",
    "\n",
    "params = {\n",
    "    'polynomialfeatures__degree': [1,2,3,4]\n",
    "}\n",
    "\n",
    "grid = GridSearchCV(model, param_grid=params, cv=8)\n",
    "\n",
    "grid.fit(X_train, y_train)\n",
    "grid.best_params_\n",
    "\n",
    "predictions = grid.predict(X_test)\n",
    "\n",
    "mse = mean_squared_error(y_test, predictions)\n",
    "print(\"MSE:\", mse)\n",
    "print(\"MAE:\", mean_absolute_error(y_test, predictions))\n",
    "print(\"MedAE:\", median_absolute_error(y_test, predictions))\n",
    "\n",
    "rmse = np.sqrt(mse)\n",
    "print(\"RMSE:\", rmse)\n",
    "\n",
    "\n",
    "r2 = r2_score(y_test, predictions)\n",
    "print(\"R2:\", r2)\n",
    "\n",
    "plt.scatter(y_test, predictions)\n",
    "plt.xlabel('Actual Labels')\n",
    "plt.ylabel('Predicted Labels')\n",
    "\n",
    "\n",
    "plt.show()"
   ]
  },
  {
   "cell_type": "code",
   "execution_count": 270,
   "id": "489b1e71-de01-49d2-bcc9-7eb5949b63a1",
   "metadata": {},
   "outputs": [
    {
     "name": "stdout",
     "output_type": "stream",
     "text": [
      "35\n",
      "6\n",
      "0.8536585365853658\n"
     ]
    }
   ],
   "source": [
    "w = 0\n",
    "l = 0\n",
    "for i in range(len(predictions)):\n",
    "    if predictions[i] > 1.20:\n",
    "        if y_test[i] < 0.6: l += 1\n",
    "        else: w +=1\n",
    "\n",
    "print(w)\n",
    "print(l)\n",
    "print(w/(w+l))"
   ]
  },
  {
   "cell_type": "code",
   "execution_count": null,
   "id": "e11a3c8a-32bc-4209-8dc2-9e86769f6f84",
   "metadata": {},
   "outputs": [],
   "source": []
  },
  {
   "cell_type": "code",
   "execution_count": null,
   "id": "49205ddd-03ef-48bd-b1db-ad4c0b6dca32",
   "metadata": {},
   "outputs": [],
   "source": []
  }
 ],
 "metadata": {
  "kernelspec": {
   "display_name": "Python 3 (ipykernel)",
   "language": "python",
   "name": "python3"
  },
  "language_info": {
   "codemirror_mode": {
    "name": "ipython",
    "version": 3
   },
   "file_extension": ".py",
   "mimetype": "text/x-python",
   "name": "python",
   "nbconvert_exporter": "python",
   "pygments_lexer": "ipython3",
   "version": "3.10.8"
  }
 },
 "nbformat": 4,
 "nbformat_minor": 5
}
