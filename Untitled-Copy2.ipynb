{
 "cells": [
  {
   "cell_type": "code",
   "execution_count": 158,
   "id": "1fe4a7f9-e5f6-4a03-91ee-b50720860854",
   "metadata": {},
   "outputs": [],
   "source": [
    "import os\n",
    "import pandas as pd\n",
    "import matplotlib.pyplot as plt\n",
    "import numpy as np\n",
    "from sklearn.model_selection import train_test_split\n",
    "from sklearn.model_selection import GridSearchCV\n",
    "from sklearn.preprocessing import PolynomialFeatures\n",
    "from sklearn.preprocessing import RobustScaler\n",
    "from sklearn.linear_model import SGDClassifier\n",
    "from sklearn.ensemble import RandomForestClassifier\n",
    "from sklearn.compose import ColumnTransformer\n",
    "from sklearn.pipeline import Pipeline\n",
    "from sklearn.preprocessing import StandardScaler, OneHotEncoder\n",
    "from sklearn.linear_model import LogisticRegression\n",
    "from sklearn.pipeline import make_pipeline\n",
    "from sklearn.metrics import roc_curve\n",
    "from sklearn.metrics import confusion_matrix\n",
    "from sklearn.metrics import precision_score, recall_score\n",
    "from sklearn. metrics import classification_report\n",
    "from sklearn.metrics import accuracy_score\n",
    "from sklearn.metrics import roc_auc_score\n",
    "from sklearn.feature_selection import VarianceThreshold\n",
    "from sklearn.feature_selection import SelectKBest, chi2\n",
    "from sklearn.feature_selection import SelectFromModel\n",
    "import matplotlib\n",
    "import matplotlib.pyplot as plt\n",
    "%matplotlib inline\n"
   ]
  },
  {
   "cell_type": "code",
   "execution_count": 159,
   "id": "244c9ab4-68f9-483f-8084-95573043e429",
   "metadata": {},
   "outputs": [
    {
     "name": "stdout",
     "output_type": "stream",
     "text": [
      "Training cases: 97\n",
      "Test cases: 42\n"
     ]
    }
   ],
   "source": [
    "df = pd.read_csv(\"df_m3_lower.csv\", sep=\";\")\n",
    "\n",
    "features = ['buy_ratio','sell_ratio','volume_mean','buy_mean','sell_mean','volatility','rsi2','rsi1','rsi0','std2','std1','std0','len']\n",
    "\n",
    "label = 'is_lower'\n",
    "X, y = df[features].values, df[label].values\n",
    "\n",
    "X_train, X_test, y_train, y_test = train_test_split(X, y, test_size=0.30, random_state=0)\n",
    "\n",
    "print('Training cases: %d\\nTest cases: %d' % (X_train.shape[0], X_test.shape[0]))"
   ]
  },
  {
   "cell_type": "code",
   "execution_count": 160,
   "id": "53b52466-ff60-4dc5-bc23-b3e19d999532",
   "metadata": {},
   "outputs": [
    {
     "data": {
      "text/plain": [
       "{'polynomialfeatures__degree': 2, 'sgdclassifier__penalty': 'l1'}"
      ]
     },
     "execution_count": 160,
     "metadata": {},
     "output_type": "execute_result"
    }
   ],
   "source": [
    "model = make_pipeline(PolynomialFeatures(),\n",
    "                     RobustScaler(),\n",
    "                     SGDClassifier(random_state=0))\n",
    "\n",
    "params = {\n",
    "    'polynomialfeatures__degree': [1,2,3,4],\n",
    "    'sgdclassifier__penalty': ['l1','l2']\n",
    "}\n",
    "\n",
    "grid = GridSearchCV(model, param_grid=params, cv=4)\n",
    "\n",
    "grid.fit(X_train, y_train)\n",
    "grid.best_params_"
   ]
  },
  {
   "cell_type": "code",
   "execution_count": 161,
   "id": "8d61021e-9684-49b1-80cc-30df9249dd37",
   "metadata": {},
   "outputs": [
    {
     "name": "stdout",
     "output_type": "stream",
     "text": [
      "Confusion Matrix:\n",
      " [[18  7]\n",
      " [ 5 12]] \n",
      "\n",
      "Accuracy: 0.7142857142857143\n",
      "Overall Precision: 0.631578947368421\n",
      "Overall Recall: 0.7058823529411765\n",
      "              precision    recall  f1-score   support\n",
      "\n",
      "         0.0       0.78      0.72      0.75        25\n",
      "         1.0       0.63      0.71      0.67        17\n",
      "\n",
      "    accuracy                           0.71        42\n",
      "   macro avg       0.71      0.71      0.71        42\n",
      "weighted avg       0.72      0.71      0.72        42\n",
      "\n"
     ]
    }
   ],
   "source": [
    "predictions = grid.predict(X_test)\n",
    "cm = confusion_matrix(y_test, predictions)\n",
    "\n",
    "print ('Confusion Matrix:\\n',cm, '\\n')\n",
    "print('Accuracy:', accuracy_score(y_test, predictions))\n",
    "print(\"Overall Precision:\",precision_score(y_test, predictions))\n",
    "print(\"Overall Recall:\",recall_score(y_test, predictions))\n",
    "print(classification_report(y_test, predictions))"
   ]
  },
  {
   "cell_type": "code",
   "execution_count": null,
   "id": "f0636cc5-d6f2-49c3-bf6a-99ca7f203b22",
   "metadata": {},
   "outputs": [],
   "source": []
  },
  {
   "cell_type": "code",
   "execution_count": 162,
   "id": "c90bc00c-6b69-4216-a966-1a796d7e7d2c",
   "metadata": {},
   "outputs": [
    {
     "data": {
      "text/plain": [
       "(array([1.45923332e-04, 7.67337382e-03, 1.42975200e-01, 1.41756054e-01,\n",
       "        1.70405589e-01, 2.18004680e-03, 1.94718809e+01, 3.04774942e+00,\n",
       "        4.47913760e-02, 1.03341698e+00, 1.31762020e+00, 1.85206859e+00,\n",
       "        5.43894675e+03]),\n",
       " array([9.90361890e-01, 9.30196354e-01, 7.05340994e-01, 7.06541461e-01,\n",
       "        6.79751599e-01, 9.62759526e-01, 1.02091570e-05, 8.08491074e-02,\n",
       "        8.32388110e-01, 3.09357467e-01, 2.51019597e-01, 1.73542996e-01,\n",
       "        0.00000000e+00]))"
      ]
     },
     "execution_count": 162,
     "metadata": {},
     "output_type": "execute_result"
    }
   ],
   "source": [
    "chi2(X, y)"
   ]
  },
  {
   "cell_type": "code",
   "execution_count": 163,
   "id": "07d1dba0-58eb-4324-8987-73887affbac5",
   "metadata": {},
   "outputs": [
    {
     "data": {
      "text/plain": [
       "array([False, False, False, False, False, False,  True,  True, False,\n",
       "       False,  True,  True,  True])"
      ]
     },
     "execution_count": 163,
     "metadata": {},
     "output_type": "execute_result"
    }
   ],
   "source": [
    "selector = SelectKBest(chi2, k=5)\n",
    "selector.fit_transform(X, y)\n",
    "selector.get_support()"
   ]
  },
  {
   "cell_type": "code",
   "execution_count": 164,
   "id": "04c05d64-0e31-478b-9c0c-bc028c50372e",
   "metadata": {},
   "outputs": [
    {
     "data": {
      "text/plain": [
       "array(['rsi2', 'rsi1', 'std1', 'std0', 'len'], dtype='<U11')"
      ]
     },
     "execution_count": 164,
     "metadata": {},
     "output_type": "execute_result"
    }
   ],
   "source": [
    "np.array(features)[selector.get_support()]"
   ]
  },
  {
   "cell_type": "code",
   "execution_count": null,
   "id": "a3bdfcb8-dcff-49de-ae48-75da1fe3ecea",
   "metadata": {},
   "outputs": [],
   "source": []
  },
  {
   "cell_type": "code",
   "execution_count": 165,
   "id": "6f2fc5b1-411c-486b-9b32-e899de671cdc",
   "metadata": {},
   "outputs": [
    {
     "data": {
      "text/plain": [
       "array(['rsi1', 'rsi0', 'len'], dtype='<U11')"
      ]
     },
     "execution_count": 165,
     "metadata": {},
     "output_type": "execute_result"
    }
   ],
   "source": [
    "selector = SelectFromModel(SGDClassifier(random_state=0),\n",
    "                          threshold='mean')\n",
    "selector.fit_transform(X, y)\n",
    "selector.get_support()\n",
    "np.array(features)[selector.get_support()]"
   ]
  },
  {
   "cell_type": "code",
   "execution_count": 166,
   "id": "f70b6553-bbb1-4192-a83e-b822f3db9a24",
   "metadata": {},
   "outputs": [
    {
     "data": {
      "text/plain": [
       "array([[-8.00962230e+01, -1.28004423e+02, -4.82078511e+02,\n",
       "        -4.84313958e+02, -5.11715122e+02,  1.47946969e-01,\n",
       "         1.79499163e+03, -6.77738080e+03, -2.65494248e+03,\n",
       "        -3.56719359e+02, -3.25075173e+02, -2.64254550e+02,\n",
       "         1.30034130e+04]])"
      ]
     },
     "execution_count": 166,
     "metadata": {},
     "output_type": "execute_result"
    }
   ],
   "source": [
    "selector.estimator_.coef_"
   ]
  },
  {
   "cell_type": "code",
   "execution_count": null,
   "id": "1d472b50-901a-4b20-b2f6-01d8b19c69bc",
   "metadata": {},
   "outputs": [],
   "source": []
  }
 ],
 "metadata": {
  "kernelspec": {
   "display_name": "Python 3 (ipykernel)",
   "language": "python",
   "name": "python3"
  },
  "language_info": {
   "codemirror_mode": {
    "name": "ipython",
    "version": 3
   },
   "file_extension": ".py",
   "mimetype": "text/x-python",
   "name": "python",
   "nbconvert_exporter": "python",
   "pygments_lexer": "ipython3",
   "version": "3.10.8"
  }
 },
 "nbformat": 4,
 "nbformat_minor": 5
}
