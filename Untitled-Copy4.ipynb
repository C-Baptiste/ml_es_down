{
 "cells": [
  {
   "cell_type": "code",
   "execution_count": 1,
   "id": "1fe4a7f9-e5f6-4a03-91ee-b50720860854",
   "metadata": {},
   "outputs": [],
   "source": [
    "import os\n",
    "import pandas as pd\n",
    "import matplotlib.pyplot as plt\n",
    "import numpy as np\n",
    "from sklearn.model_selection import train_test_split\n",
    "from sklearn.model_selection import GridSearchCV\n",
    "from sklearn.preprocessing import PolynomialFeatures\n",
    "from sklearn.preprocessing import RobustScaler\n",
    "from sklearn.linear_model import SGDClassifier\n",
    "from sklearn.ensemble import RandomForestClassifier\n",
    "from sklearn.compose import ColumnTransformer\n",
    "from sklearn.pipeline import Pipeline\n",
    "from sklearn.preprocessing import StandardScaler, OneHotEncoder\n",
    "from sklearn.linear_model import LogisticRegression\n",
    "from sklearn.pipeline import make_pipeline\n",
    "from sklearn.metrics import roc_curve\n",
    "from sklearn.metrics import confusion_matrix\n",
    "from sklearn.metrics import precision_score, recall_score\n",
    "from sklearn. metrics import classification_report\n",
    "from sklearn.metrics import accuracy_score\n",
    "from sklearn.metrics import roc_auc_score\n",
    "from sklearn.feature_selection import VarianceThreshold\n",
    "from sklearn.feature_selection import SelectKBest, chi2\n",
    "from sklearn.feature_selection import SelectFromModel\n",
    "from sklearn.preprocessing import MinMaxScaler\n",
    "from sklearn.neighbors import KNeighborsClassifier\n",
    "from sklearn.tree import DecisionTreeClassifier\n",
    "from sklearn.svm import LinearSVC\n",
    "from sklearn.svm import SVC\n",
    "from sklearn.svm import NuSVC\n",
    "import matplotlib\n",
    "import matplotlib.pyplot as plt\n",
    "%matplotlib inline\n"
   ]
  },
  {
   "cell_type": "code",
   "execution_count": 2,
   "id": "244c9ab4-68f9-483f-8084-95573043e429",
   "metadata": {},
   "outputs": [
    {
     "name": "stdout",
     "output_type": "stream",
     "text": [
      "Training cases: 193\n",
      "Test cases: 84\n"
     ]
    }
   ],
   "source": [
    "df = pd.read_csv(\"df_m3_lower.csv\", sep=\";\")\n",
    "\n",
    "#features = ['total_volume', 'buy_volume', 'sell_volume','buy_ratio','sell_ratio','volume_mean','buy_mean','sell_mean','volatility','rsi2','rsi1','rsi0','std2','std1','std0','len']\n",
    "features = ['buy_ratio','sell_ratio','volume_mean','buy_mean','sell_mean','volatility','rsi2','rsi1','rsi0','std2','std1','std0','len']\n",
    "label = 'is_lower'\n",
    "X, y = df[features].values, df[label].values\n",
    "\n",
    "X_train, X_test, y_train, y_test = train_test_split(X, y, test_size=0.30, random_state=0)\n",
    "\n",
    "print('Training cases: %d\\nTest cases: %d' % (X_train.shape[0], X_test.shape[0]))"
   ]
  },
  {
   "cell_type": "code",
   "execution_count": 18,
   "id": "53b52466-ff60-4dc5-bc23-b3e19d999532",
   "metadata": {},
   "outputs": [
    {
     "data": {
      "text/plain": [
       "{'polynomialfeatures__degree': 4, 'sgdclassifier__penalty': 'l2'}"
      ]
     },
     "execution_count": 18,
     "metadata": {},
     "output_type": "execute_result"
    }
   ],
   "source": [
    "model = make_pipeline(PolynomialFeatures(),\n",
    "                     RobustScaler(),\n",
    "                     SGDClassifier(random_state=0))\n",
    "\n",
    "params = {\n",
    "    'polynomialfeatures__degree': [1,2,3,4],\n",
    "    'sgdclassifier__penalty': ['l1','l2']\n",
    "}\n",
    "\n",
    "grid = GridSearchCV(model, param_grid=params, cv=4)\n",
    "\n",
    "grid.fit(X_train, y_train)\n",
    "grid.best_params_"
   ]
  },
  {
   "cell_type": "code",
   "execution_count": 19,
   "id": "8d61021e-9684-49b1-80cc-30df9249dd37",
   "metadata": {},
   "outputs": [
    {
     "name": "stdout",
     "output_type": "stream",
     "text": [
      "Confusion Matrix:\n",
      " [[36  8]\n",
      " [22 18]] \n",
      "\n",
      "Accuracy: 0.6428571428571429\n",
      "Overall Precision: 0.6923076923076923\n",
      "Overall Recall: 0.45\n",
      "              precision    recall  f1-score   support\n",
      "\n",
      "         0.0       0.62      0.82      0.71        44\n",
      "         1.0       0.69      0.45      0.55        40\n",
      "\n",
      "    accuracy                           0.64        84\n",
      "   macro avg       0.66      0.63      0.63        84\n",
      "weighted avg       0.65      0.64      0.63        84\n",
      "\n"
     ]
    }
   ],
   "source": [
    "predictions = grid.predict(X_test)\n",
    "cm = confusion_matrix(y_test, predictions)\n",
    "\n",
    "print ('Confusion Matrix:\\n',cm, '\\n')\n",
    "print('Accuracy:', accuracy_score(y_test, predictions))\n",
    "print(\"Overall Precision:\",precision_score(y_test, predictions))\n",
    "print(\"Overall Recall:\",recall_score(y_test, predictions))\n",
    "print(classification_report(y_test, predictions))"
   ]
  },
  {
   "cell_type": "code",
   "execution_count": null,
   "id": "f0636cc5-d6f2-49c3-bf6a-99ca7f203b22",
   "metadata": {},
   "outputs": [],
   "source": []
  },
  {
   "cell_type": "code",
   "execution_count": 13,
   "id": "1d472b50-901a-4b20-b2f6-01d8b19c69bc",
   "metadata": {},
   "outputs": [
    {
     "name": "stdout",
     "output_type": "stream",
     "text": [
      "{'polynomialfeatures__degree': 1}\n",
      "Confusion Matrix:\n",
      " [[30 14]\n",
      " [25 15]] \n",
      "\n",
      "Accuracy: 0.5357142857142857\n",
      "Overall Precision: 0.5172413793103449\n",
      "Overall Recall: 0.375\n",
      "              precision    recall  f1-score   support\n",
      "\n",
      "         0.0       0.55      0.68      0.61        44\n",
      "         1.0       0.52      0.38      0.43        40\n",
      "\n",
      "    accuracy                           0.54        84\n",
      "   macro avg       0.53      0.53      0.52        84\n",
      "weighted avg       0.53      0.54      0.52        84\n",
      "\n"
     ]
    }
   ],
   "source": [
    "model = make_pipeline(PolynomialFeatures(),\n",
    "                     RobustScaler(),\n",
    "                     SVC(gamma='auto'))\n",
    "\n",
    "params = {\n",
    "    'polynomialfeatures__degree': [1,2,3,4],\n",
    "}\n",
    "\n",
    "grid = GridSearchCV(model, param_grid=params, cv=4)\n",
    "\n",
    "grid.fit(X_train, y_train)\n",
    "print(grid.best_params_)\n",
    "\n",
    "predictions = grid.predict(X_test)\n",
    "cm = confusion_matrix(y_test, predictions)\n",
    "\n",
    "print ('Confusion Matrix:\\n',cm, '\\n')\n",
    "print('Accuracy:', accuracy_score(y_test, predictions))\n",
    "print(\"Overall Precision:\",precision_score(y_test, predictions))\n",
    "print(\"Overall Recall:\",recall_score(y_test, predictions))\n",
    "print(classification_report(y_test, predictions))"
   ]
  },
  {
   "cell_type": "code",
   "execution_count": 6,
   "id": "906eb486-59f1-44f2-9cf5-a90689bbb528",
   "metadata": {},
   "outputs": [
    {
     "name": "stdout",
     "output_type": "stream",
     "text": [
      "{'polynomialfeatures__degree': 3}\n",
      "Confusion Matrix:\n",
      " [[25 19]\n",
      " [20 20]] \n",
      "\n",
      "Accuracy: 0.5357142857142857\n",
      "Overall Precision: 0.5128205128205128\n",
      "Overall Recall: 0.5\n",
      "              precision    recall  f1-score   support\n",
      "\n",
      "         0.0       0.56      0.57      0.56        44\n",
      "         1.0       0.51      0.50      0.51        40\n",
      "\n",
      "    accuracy                           0.54        84\n",
      "   macro avg       0.53      0.53      0.53        84\n",
      "weighted avg       0.54      0.54      0.54        84\n",
      "\n"
     ]
    }
   ],
   "source": [
    "model = make_pipeline(PolynomialFeatures(),\n",
    "                     RobustScaler(),\n",
    "                     NuSVC())\n",
    "\n",
    "params = {\n",
    "    'polynomialfeatures__degree': [1,2,3,4],\n",
    "}\n",
    "\n",
    "grid = GridSearchCV(model, param_grid=params, cv=4)\n",
    "\n",
    "grid.fit(X_train, y_train)\n",
    "print(grid.best_params_)\n",
    "\n",
    "predictions = grid.predict(X_test)\n",
    "cm = confusion_matrix(y_test, predictions)\n",
    "\n",
    "print ('Confusion Matrix:\\n',cm, '\\n')\n",
    "print('Accuracy:', accuracy_score(y_test, predictions))\n",
    "print(\"Overall Precision:\",precision_score(y_test, predictions))\n",
    "print(\"Overall Recall:\",recall_score(y_test, predictions))\n",
    "print(classification_report(y_test, predictions))"
   ]
  },
  {
   "cell_type": "code",
   "execution_count": 7,
   "id": "965df462-400f-423b-955e-a37a6423f252",
   "metadata": {},
   "outputs": [
    {
     "name": "stdout",
     "output_type": "stream",
     "text": [
      "{'polynomialfeatures__degree': 1}\n",
      "Confusion Matrix:\n",
      " [[28 16]\n",
      " [28 12]] \n",
      "\n",
      "Accuracy: 0.47619047619047616\n",
      "Overall Precision: 0.42857142857142855\n",
      "Overall Recall: 0.3\n",
      "              precision    recall  f1-score   support\n",
      "\n",
      "         0.0       0.50      0.64      0.56        44\n",
      "         1.0       0.43      0.30      0.35        40\n",
      "\n",
      "    accuracy                           0.48        84\n",
      "   macro avg       0.46      0.47      0.46        84\n",
      "weighted avg       0.47      0.48      0.46        84\n",
      "\n"
     ]
    }
   ],
   "source": [
    "model = make_pipeline(PolynomialFeatures(),\n",
    "                     RobustScaler(),\n",
    "                     KNeighborsClassifier(n_neighbors=10))\n",
    "\n",
    "params = {\n",
    "    'polynomialfeatures__degree': [1,2,3,4],\n",
    "}\n",
    "\n",
    "grid = GridSearchCV(model, param_grid=params, cv=4)\n",
    "\n",
    "grid.fit(X_train, y_train)\n",
    "print(grid.best_params_)\n",
    "\n",
    "predictions = grid.predict(X_test)\n",
    "cm = confusion_matrix(y_test, predictions)\n",
    "\n",
    "print ('Confusion Matrix:\\n',cm, '\\n')\n",
    "print('Accuracy:', accuracy_score(y_test, predictions))\n",
    "print(\"Overall Precision:\",precision_score(y_test, predictions))\n",
    "print(\"Overall Recall:\",recall_score(y_test, predictions))\n",
    "print(classification_report(y_test, predictions))"
   ]
  },
  {
   "cell_type": "code",
   "execution_count": 8,
   "id": "046fa2ac-2ca3-4684-a9f0-07b2ae385b21",
   "metadata": {},
   "outputs": [
    {
     "name": "stdout",
     "output_type": "stream",
     "text": [
      "{'polynomialfeatures__degree': 2}\n",
      "Confusion Matrix:\n",
      " [[25 19]\n",
      " [18 22]] \n",
      "\n",
      "Accuracy: 0.5595238095238095\n",
      "Overall Precision: 0.5365853658536586\n",
      "Overall Recall: 0.55\n",
      "              precision    recall  f1-score   support\n",
      "\n",
      "         0.0       0.58      0.57      0.57        44\n",
      "         1.0       0.54      0.55      0.54        40\n",
      "\n",
      "    accuracy                           0.56        84\n",
      "   macro avg       0.56      0.56      0.56        84\n",
      "weighted avg       0.56      0.56      0.56        84\n",
      "\n"
     ]
    }
   ],
   "source": [
    "model = make_pipeline(PolynomialFeatures(),\n",
    "                     RobustScaler(),\n",
    "                     RandomForestClassifier(n_estimators=50))\n",
    "\n",
    "params = {\n",
    "    'polynomialfeatures__degree': [1,2,3,4],\n",
    "}\n",
    "\n",
    "grid = GridSearchCV(model, param_grid=params, cv=4)\n",
    "\n",
    "grid.fit(X_train, y_train)\n",
    "print(grid.best_params_)\n",
    "\n",
    "predictions = grid.predict(X_test)\n",
    "cm = confusion_matrix(y_test, predictions)\n",
    "\n",
    "print ('Confusion Matrix:\\n',cm, '\\n')\n",
    "print('Accuracy:', accuracy_score(y_test, predictions))\n",
    "print(\"Overall Precision:\",precision_score(y_test, predictions))\n",
    "print(\"Overall Recall:\",recall_score(y_test, predictions))\n",
    "print(classification_report(y_test, predictions))"
   ]
  },
  {
   "cell_type": "code",
   "execution_count": 9,
   "id": "a0b8462e-29fe-46b7-9148-10527534f7fb",
   "metadata": {},
   "outputs": [
    {
     "name": "stdout",
     "output_type": "stream",
     "text": [
      "{'polynomialfeatures__degree': 2}\n",
      "Confusion Matrix:\n",
      " [[22 22]\n",
      " [16 24]] \n",
      "\n",
      "Accuracy: 0.5476190476190477\n",
      "Overall Precision: 0.5217391304347826\n",
      "Overall Recall: 0.6\n",
      "              precision    recall  f1-score   support\n",
      "\n",
      "         0.0       0.58      0.50      0.54        44\n",
      "         1.0       0.52      0.60      0.56        40\n",
      "\n",
      "    accuracy                           0.55        84\n",
      "   macro avg       0.55      0.55      0.55        84\n",
      "weighted avg       0.55      0.55      0.55        84\n",
      "\n"
     ]
    }
   ],
   "source": [
    "model = make_pipeline(PolynomialFeatures(),\n",
    "                     RobustScaler(),\n",
    "                     DecisionTreeClassifier(random_state=0))\n",
    "\n",
    "params = {\n",
    "    'polynomialfeatures__degree': [1,2,3,4],\n",
    "}\n",
    "\n",
    "grid = GridSearchCV(model, param_grid=params, cv=4)\n",
    "\n",
    "grid.fit(X_train, y_train)\n",
    "print(grid.best_params_)\n",
    "\n",
    "predictions = grid.predict(X_test)\n",
    "cm = confusion_matrix(y_test, predictions)\n",
    "\n",
    "print ('Confusion Matrix:\\n',cm, '\\n')\n",
    "print('Accuracy:', accuracy_score(y_test, predictions))\n",
    "print(\"Overall Precision:\",precision_score(y_test, predictions))\n",
    "print(\"Overall Recall:\",recall_score(y_test, predictions))\n",
    "print(classification_report(y_test, predictions))"
   ]
  },
  {
   "cell_type": "code",
   "execution_count": 10,
   "id": "1e9e1c3a-67c0-4eeb-b2c9-8de9af5ee4bf",
   "metadata": {},
   "outputs": [
    {
     "name": "stdout",
     "output_type": "stream",
     "text": [
      "{'polynomialfeatures__degree': 1}\n",
      "Confusion Matrix:\n",
      " [[ 7 37]\n",
      " [10 30]] \n",
      "\n",
      "Accuracy: 0.44047619047619047\n",
      "Overall Precision: 0.44776119402985076\n",
      "Overall Recall: 0.75\n",
      "              precision    recall  f1-score   support\n",
      "\n",
      "         0.0       0.41      0.16      0.23        44\n",
      "         1.0       0.45      0.75      0.56        40\n",
      "\n",
      "    accuracy                           0.44        84\n",
      "   macro avg       0.43      0.45      0.40        84\n",
      "weighted avg       0.43      0.44      0.39        84\n",
      "\n"
     ]
    }
   ],
   "source": [
    "model = make_pipeline(PolynomialFeatures(),\n",
    "                     RobustScaler(),\n",
    "                     SGDClassifier(loss=\"hinge\", penalty=\"l2\", max_iter=100))\n",
    "\n",
    "params = {\n",
    "    'polynomialfeatures__degree': [1,2,3,4],\n",
    "}\n",
    "\n",
    "grid = GridSearchCV(model, param_grid=params, cv=4)\n",
    "\n",
    "grid.fit(X_train, y_train)\n",
    "print(grid.best_params_)\n",
    "\n",
    "predictions = grid.predict(X_test)\n",
    "cm = confusion_matrix(y_test, predictions)\n",
    "\n",
    "print ('Confusion Matrix:\\n',cm, '\\n')\n",
    "print('Accuracy:', accuracy_score(y_test, predictions))\n",
    "print(\"Overall Precision:\",precision_score(y_test, predictions))\n",
    "print(\"Overall Recall:\",recall_score(y_test, predictions))\n",
    "print(classification_report(y_test, predictions))"
   ]
  },
  {
   "cell_type": "code",
   "execution_count": null,
   "id": "a550c34d-3ade-412e-b5d4-e1e3dec7fd0b",
   "metadata": {},
   "outputs": [],
   "source": []
  }
 ],
 "metadata": {
  "kernelspec": {
   "display_name": "Python 3 (ipykernel)",
   "language": "python",
   "name": "python3"
  },
  "language_info": {
   "codemirror_mode": {
    "name": "ipython",
    "version": 3
   },
   "file_extension": ".py",
   "mimetype": "text/x-python",
   "name": "python",
   "nbconvert_exporter": "python",
   "pygments_lexer": "ipython3",
   "version": "3.10.8"
  }
 },
 "nbformat": 4,
 "nbformat_minor": 5
}
