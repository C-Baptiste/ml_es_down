{
 "cells": [
  {
   "cell_type": "code",
   "execution_count": 7,
   "id": "1fe4a7f9-e5f6-4a03-91ee-b50720860854",
   "metadata": {},
   "outputs": [],
   "source": [
    "import os\n",
    "import pandas as pd\n",
    "import matplotlib.pyplot as plt\n",
    "import numpy as np\n",
    "from sklearn.model_selection import train_test_split\n",
    "from sklearn.model_selection import GridSearchCV\n",
    "from sklearn.preprocessing import PolynomialFeatures\n",
    "from sklearn.preprocessing import RobustScaler\n",
    "from sklearn.linear_model import SGDClassifier\n",
    "from sklearn.ensemble import RandomForestClassifier\n",
    "from sklearn.compose import ColumnTransformer\n",
    "from sklearn.pipeline import Pipeline\n",
    "from sklearn.preprocessing import StandardScaler, OneHotEncoder\n",
    "from sklearn.linear_model import LogisticRegression\n",
    "from sklearn.pipeline import make_pipeline\n",
    "from sklearn.metrics import roc_curve\n",
    "from sklearn.metrics import confusion_matrix\n",
    "from sklearn.metrics import precision_score, recall_score\n",
    "from sklearn. metrics import classification_report\n",
    "from sklearn.metrics import accuracy_score\n",
    "from sklearn.metrics import roc_auc_score\n",
    "from sklearn.feature_selection import VarianceThreshold\n",
    "from sklearn.feature_selection import SelectKBest, chi2\n",
    "from sklearn.feature_selection import SelectFromModel\n",
    "from sklearn.preprocessing import MinMaxScaler\n",
    "from sklearn.neighbors import KNeighborsClassifier\n",
    "from sklearn.tree import DecisionTreeClassifier\n",
    "from sklearn.svm import LinearSVC\n",
    "from sklearn.svm import SVC\n",
    "from sklearn.svm import NuSVC\n",
    "from sklearn.neighbors import NearestNeighbors\n",
    "from sklearn.neighbors import RadiusNeighborsClassifier\n",
    "from sklearn.ensemble import AdaBoostClassifier\n",
    "from sklearn.ensemble import VotingClassifier\n",
    "from sklearn.ensemble import BaggingClassifier, StackingClassifier\n",
    "from sklearn.gaussian_process.kernels import RBF\n",
    "from sklearn.gaussian_process import GaussianProcessClassifier\n",
    "from sklearn.discriminant_analysis import QuadraticDiscriminantAnalysis\n",
    "from sklearn.neural_network import MLPClassifier\n",
    "from sklearn.naive_bayes import GaussianNB\n",
    "from sklearn.naive_bayes import CategoricalNB\n",
    "import matplotlib\n",
    "from sklearn.decomposition import PCA\n",
    "import seaborn as sns\n",
    "%matplotlib inline\n"
   ]
  },
  {
   "cell_type": "code",
   "execution_count": 8,
   "id": "244c9ab4-68f9-483f-8084-95573043e429",
   "metadata": {},
   "outputs": [
    {
     "name": "stdout",
     "output_type": "stream",
     "text": [
      "Training cases: 296\n",
      "Test cases: 128\n"
     ]
    }
   ],
   "source": [
    "df = pd.read_csv(\"df_m1_lower_.csv\", sep=\";\")\n",
    "\n",
    "features = [         \n",
    "            'diff_h_l_0',\n",
    "            'diff_o_c_0',\n",
    "            'diff_h_o_0',\n",
    "            'diff_c_l_0',\n",
    "            'vol_total_0',\n",
    "            'vol_buy_0',\n",
    "            'vol_sell_0',\n",
    "            'vol_other_0',\n",
    "            'nb_tick_total_0',\n",
    "            'nb_tick_buy_0',\n",
    "            'nb_tick_sell_0',\n",
    "            'nb_tick_other_0',\n",
    "            'nb_price_changed_0',\n",
    "            'rsi2',\n",
    "            'rsi1',\n",
    "            'rsi0',\n",
    "            #'rsi2_long',\n",
    "            #'rsi1_long',\n",
    "            #'rsi0_long',\n",
    "            'std2',\n",
    "            'std1',\n",
    "            'std0',\n",
    "            'std2_long',\n",
    "            'std1_long',\n",
    "            'std0_long',\n",
    "            #'diff_h_l_20',\n",
    "            #'diff_h_l_10'\n",
    "            ]\n",
    "\n",
    "label = 'is_lower'\n",
    "X, y = df[features].values, df[label].values\n",
    "\n",
    "X_train, X_test, y_train, y_test = train_test_split(X, y, test_size=0.30, random_state=0)\n",
    "\n",
    "print('Training cases: %d\\nTest cases: %d' % (X_train.shape[0], X_test.shape[0]))"
   ]
  },
  {
   "cell_type": "code",
   "execution_count": 9,
   "id": "d59ba926-79df-437e-ad07-ce8d6936759d",
   "metadata": {},
   "outputs": [
    {
     "name": "stdout",
     "output_type": "stream",
     "text": [
      "DecisionTreeClassifier 0.640625\n",
      "KNeighborsClassifier 0.59375\n",
      "AdaBoostClassifier 0.5703125\n",
      "VotingClassifier 0.65625\n"
     ]
    }
   ],
   "source": [
    "clf1 = DecisionTreeClassifier(max_depth=6)\n",
    "clf2 = KNeighborsClassifier(n_neighbors=7)\n",
    "clf3 = AdaBoostClassifier(n_estimators=50)\n",
    "\n",
    "eclf = VotingClassifier(estimators=[(\"dt\", clf1), (\"knn\", clf2), (\"ada\", clf3)],\n",
    "                        voting=\"soft\",\n",
    "                        weights=[3, 2, 1])\n",
    "\n",
    "for model in (clf1, clf2, clf3, eclf):\n",
    "    model.fit(X_train, y_train)\n",
    "    print(model.__class__.__name__, model.score(X_test, y_test))"
   ]
  },
  {
   "cell_type": "code",
   "execution_count": 10,
   "id": "bcef8c63-1106-4351-bf4a-c0c5258f1e12",
   "metadata": {},
   "outputs": [
    {
     "name": "stdout",
     "output_type": "stream",
     "text": [
      "Confusion Matrix:\n",
      " [[47 25]\n",
      " [19 37]] \n",
      "\n",
      "Accuracy: 0.65625\n",
      "Overall Precision: 0.5967741935483871\n",
      "Overall Recall: 0.6607142857142857\n",
      "              precision    recall  f1-score   support\n",
      "\n",
      "         0.0       0.71      0.65      0.68        72\n",
      "         1.0       0.60      0.66      0.63        56\n",
      "\n",
      "    accuracy                           0.66       128\n",
      "   macro avg       0.65      0.66      0.65       128\n",
      "weighted avg       0.66      0.66      0.66       128\n",
      "\n",
      "0.65625\n"
     ]
    }
   ],
   "source": [
    "predictions = eclf.predict(X_test)\n",
    "cm = confusion_matrix(y_test, predictions)\n",
    "\n",
    "print ('Confusion Matrix:\\n',cm, '\\n')\n",
    "print('Accuracy:', accuracy_score(y_test, predictions))\n",
    "print(\"Overall Precision:\",precision_score(y_test, predictions))\n",
    "print(\"Overall Recall:\",recall_score(y_test, predictions))\n",
    "print(classification_report(y_test, predictions))\n",
    "print(eclf.score(X_test, y_test))"
   ]
  },
  {
   "cell_type": "code",
   "execution_count": 11,
   "id": "74144b2d-2c5f-4960-b40c-2df7b999f7d1",
   "metadata": {},
   "outputs": [
    {
     "name": "stdout",
     "output_type": "stream",
     "text": [
      "Confusion Matrix:\n",
      " [[45 27]\n",
      " [17 39]] \n",
      "\n",
      "Accuracy: 0.65625\n",
      "Overall Precision: 0.5909090909090909\n",
      "Overall Recall: 0.6964285714285714\n",
      "              precision    recall  f1-score   support\n",
      "\n",
      "         0.0       0.73      0.62      0.67        72\n",
      "         1.0       0.59      0.70      0.64        56\n",
      "\n",
      "    accuracy                           0.66       128\n",
      "   macro avg       0.66      0.66      0.66       128\n",
      "weighted avg       0.67      0.66      0.66       128\n",
      "\n",
      "0.65625\n"
     ]
    }
   ],
   "source": [
    "clf = DecisionTreeClassifier(max_depth=6)\n",
    "clf.fit(X_train, y_train)\n",
    "\n",
    "\n",
    "predictions = clf.predict(X_test)\n",
    "cm = confusion_matrix(y_test, predictions)\n",
    "\n",
    "print ('Confusion Matrix:\\n',cm, '\\n')\n",
    "print('Accuracy:', accuracy_score(y_test, predictions))\n",
    "print(\"Overall Precision:\",precision_score(y_test, predictions))\n",
    "print(\"Overall Recall:\",recall_score(y_test, predictions))\n",
    "print(classification_report(y_test, predictions))\n",
    "print(clf.score(X_test, y_test))"
   ]
  },
  {
   "cell_type": "code",
   "execution_count": null,
   "id": "683055a0-1d93-42cf-b259-a5df21ca2455",
   "metadata": {},
   "outputs": [],
   "source": []
  },
  {
   "cell_type": "code",
   "execution_count": 12,
   "id": "46aa9ea7-b908-4bea-9522-4ba81ac667f9",
   "metadata": {},
   "outputs": [
    {
     "name": "stdout",
     "output_type": "stream",
     "text": [
      "Confusion Matrix:\n",
      " [[47 25]\n",
      " [18 38]] \n",
      "\n",
      "Accuracy: 0.6640625\n",
      "Overall Precision: 0.6031746031746031\n",
      "Overall Recall: 0.6785714285714286\n",
      "              precision    recall  f1-score   support\n",
      "\n",
      "         0.0       0.72      0.65      0.69        72\n",
      "         1.0       0.60      0.68      0.64        56\n",
      "\n",
      "    accuracy                           0.66       128\n",
      "   macro avg       0.66      0.67      0.66       128\n",
      "weighted avg       0.67      0.66      0.67       128\n",
      "\n"
     ]
    }
   ],
   "source": [
    "model = make_pipeline(PolynomialFeatures(),\n",
    "                     DecisionTreeClassifier(max_depth=6))\n",
    "\n",
    "params = {\n",
    "    'polynomialfeatures__degree': [1,2,3,4,5,6]\n",
    "}\n",
    "\n",
    "grid = GridSearchCV(model, param_grid=params, cv=6)\n",
    "\n",
    "grid.fit(X_train, y_train)\n",
    "grid.best_params_\n",
    "\n",
    "predictions = grid.predict(X_test)\n",
    "cm = confusion_matrix(y_test, predictions)\n",
    "\n",
    "print ('Confusion Matrix:\\n',cm, '\\n')\n",
    "print('Accuracy:', accuracy_score(y_test, predictions))\n",
    "print(\"Overall Precision:\",precision_score(y_test, predictions))\n",
    "print(\"Overall Recall:\",recall_score(y_test, predictions))\n",
    "print(classification_report(y_test, predictions))\n"
   ]
  },
  {
   "cell_type": "code",
   "execution_count": null,
   "id": "e38996f7-fb1b-4cd3-894c-c866b29e3c49",
   "metadata": {},
   "outputs": [],
   "source": []
  }
 ],
 "metadata": {
  "kernelspec": {
   "display_name": "Python 3 (ipykernel)",
   "language": "python",
   "name": "python3"
  },
  "language_info": {
   "codemirror_mode": {
    "name": "ipython",
    "version": 3
   },
   "file_extension": ".py",
   "mimetype": "text/x-python",
   "name": "python",
   "nbconvert_exporter": "python",
   "pygments_lexer": "ipython3",
   "version": "3.10.8"
  }
 },
 "nbformat": 4,
 "nbformat_minor": 5
}
