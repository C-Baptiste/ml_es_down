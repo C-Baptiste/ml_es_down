{
 "cells": [
  {
   "cell_type": "code",
   "execution_count": 186,
   "id": "1fe4a7f9-e5f6-4a03-91ee-b50720860854",
   "metadata": {},
   "outputs": [],
   "source": [
    "import os\n",
    "import pandas as pd\n",
    "import matplotlib.pyplot as plt\n",
    "import numpy as np\n",
    "from sklearn.model_selection import train_test_split\n",
    "from sklearn.model_selection import GridSearchCV\n",
    "from sklearn.preprocessing import PolynomialFeatures\n",
    "from sklearn.preprocessing import RobustScaler\n",
    "from sklearn.linear_model import SGDClassifier\n",
    "from sklearn.ensemble import RandomForestClassifier\n",
    "from sklearn.compose import ColumnTransformer\n",
    "from sklearn.pipeline import Pipeline\n",
    "from sklearn.preprocessing import StandardScaler, OneHotEncoder\n",
    "from sklearn.linear_model import LogisticRegression\n",
    "from sklearn.pipeline import make_pipeline\n",
    "from sklearn.metrics import roc_curve\n",
    "from sklearn.metrics import confusion_matrix\n",
    "from sklearn.metrics import precision_score, recall_score\n",
    "from sklearn. metrics import classification_report\n",
    "from sklearn.metrics import accuracy_score\n",
    "from sklearn.metrics import roc_auc_score\n",
    "from sklearn.feature_selection import VarianceThreshold\n",
    "from sklearn.feature_selection import SelectKBest, chi2\n",
    "from sklearn.feature_selection import SelectFromModel\n",
    "from sklearn.preprocessing import MinMaxScaler\n",
    "from sklearn.neighbors import KNeighborsClassifier\n",
    "from sklearn.tree import DecisionTreeClassifier\n",
    "from sklearn.svm import LinearSVC\n",
    "from sklearn.svm import SVC\n",
    "from sklearn.svm import NuSVC\n",
    "from sklearn.neighbors import NearestNeighbors\n",
    "from sklearn.neighbors import RadiusNeighborsClassifier\n",
    "from sklearn.ensemble import AdaBoostClassifier\n",
    "from sklearn.ensemble import VotingClassifier\n",
    "from sklearn.ensemble import BaggingClassifier, StackingClassifier\n",
    "from sklearn.gaussian_process.kernels import RBF\n",
    "from sklearn.gaussian_process import GaussianProcessClassifier\n",
    "from sklearn.discriminant_analysis import QuadraticDiscriminantAnalysis\n",
    "from sklearn.neural_network import MLPClassifier\n",
    "from sklearn.naive_bayes import GaussianNB\n",
    "from sklearn.naive_bayes import CategoricalNB\n",
    "import matplotlib\n",
    "from sklearn.decomposition import PCA\n",
    "import seaborn as sns\n",
    "%matplotlib inline\n"
   ]
  },
  {
   "cell_type": "code",
   "execution_count": 240,
   "id": "244c9ab4-68f9-483f-8084-95573043e429",
   "metadata": {},
   "outputs": [
    {
     "name": "stdout",
     "output_type": "stream",
     "text": [
      "Training cases: 296\n",
      "Test cases: 128\n"
     ]
    }
   ],
   "source": [
    "df = pd.read_csv(\"df_m1_lower_.csv\", sep=\";\")\n",
    "\n",
    "features = [         \n",
    "            'diff_h_l_0',\n",
    "            'diff_o_c_0',\n",
    "            'diff_h_o_0',\n",
    "            'diff_c_l_0',\n",
    "            'vol_total_0',\n",
    "            'vol_buy_0',\n",
    "            'vol_sell_0',\n",
    "            'vol_other_0',\n",
    "            'nb_tick_total_0',\n",
    "            'nb_tick_buy_0',\n",
    "            'nb_tick_sell_0',\n",
    "            'nb_tick_other_0',\n",
    "            'nb_price_changed_0',\n",
    "            'rsi2',\n",
    "            'rsi1',\n",
    "            'rsi0',\n",
    "            #'rsi2_long',\n",
    "            #'rsi1_long',\n",
    "            #'rsi0_long',\n",
    "            'std2',\n",
    "            'std1',\n",
    "            'std0',\n",
    "            #'std2_long',\n",
    "            #'std1_long',\n",
    "            #'std0_long'\n",
    "            ]\n",
    "\n",
    "label = 'is_lower'\n",
    "X, y = df[features].values, df[label].values\n",
    "\n",
    "X_train, X_test, y_train, y_test = train_test_split(X, y, test_size=0.30, random_state=0)\n",
    "\n",
    "print('Training cases: %d\\nTest cases: %d' % (X_train.shape[0], X_test.shape[0]))"
   ]
  },
  {
   "cell_type": "code",
   "execution_count": 241,
   "id": "1c3b0024-f777-4cea-b9ad-3acac83ea230",
   "metadata": {},
   "outputs": [
    {
     "name": "stdout",
     "output_type": "stream",
     "text": [
      "Confusion Matrix:\n",
      " [[36 36]\n",
      " [19 37]] \n",
      "\n",
      "Accuracy: 0.5703125\n",
      "Overall Precision: 0.5068493150684932\n",
      "Overall Recall: 0.6607142857142857\n",
      "              precision    recall  f1-score   support\n",
      "\n",
      "         0.0       0.65      0.50      0.57        72\n",
      "         1.0       0.51      0.66      0.57        56\n",
      "\n",
      "    accuracy                           0.57       128\n",
      "   macro avg       0.58      0.58      0.57       128\n",
      "weighted avg       0.59      0.57      0.57       128\n",
      "\n",
      "0.5703125\n"
     ]
    }
   ],
   "source": [
    "clf = AdaBoostClassifier(n_estimators=50)\n",
    "clf.fit(X_train, y_train)\n",
    "\n",
    "\n",
    "predictions = clf.predict(X_test)\n",
    "cm = confusion_matrix(y_test, predictions)\n",
    "\n",
    "print ('Confusion Matrix:\\n',cm, '\\n')\n",
    "print('Accuracy:', accuracy_score(y_test, predictions))\n",
    "print(\"Overall Precision:\",precision_score(y_test, predictions))\n",
    "print(\"Overall Recall:\",recall_score(y_test, predictions))\n",
    "print(classification_report(y_test, predictions))\n",
    "print(clf.score(X_test, y_test))"
   ]
  },
  {
   "cell_type": "code",
   "execution_count": 242,
   "id": "1033a03f-8550-4814-ba41-0b6b385d29b2",
   "metadata": {},
   "outputs": [
    {
     "name": "stdout",
     "output_type": "stream",
     "text": [
      "AdaBoostClassifier 0.5703125\n",
      "DecisionTreeClassifier 0.609375\n",
      "KNeighborsClassifier 0.59375\n",
      "GaussianNB 0.59375\n",
      "VotingClassifier 0.6171875\n"
     ]
    }
   ],
   "source": [
    "model_1 = AdaBoostClassifier(n_estimators=50)\n",
    "model_2 = DecisionTreeClassifier(max_depth=4)\n",
    "model_3 = KNeighborsClassifier(n_neighbors=7, algorithm='ball_tree')\n",
    "model_4 = GaussianNB()\n",
    "\n",
    "model_5 = VotingClassifier([('SGD', model_1),\n",
    "                            ('Tree', model_2),\n",
    "                            ('KNN', model_3),\n",
    "                           ('Gauss', model_4)],\n",
    "                           voting='soft')\n",
    "\n",
    "for model in (model_1, model_2, model_3, model_4, model_5):\n",
    "    model.fit(X_train, y_train)\n",
    "    print(model.__class__.__name__, model.score(X_test, y_test))"
   ]
  },
  {
   "cell_type": "code",
   "execution_count": 243,
   "id": "5946162e-370e-43d2-9ade-835f8b3857a4",
   "metadata": {},
   "outputs": [
    {
     "name": "stdout",
     "output_type": "stream",
     "text": [
      "Confusion Matrix:\n",
      " [[50 22]\n",
      " [27 29]] \n",
      "\n",
      "Accuracy: 0.6171875\n",
      "Overall Precision: 0.5686274509803921\n",
      "Overall Recall: 0.5178571428571429\n",
      "              precision    recall  f1-score   support\n",
      "\n",
      "         0.0       0.65      0.69      0.67        72\n",
      "         1.0       0.57      0.52      0.54        56\n",
      "\n",
      "    accuracy                           0.62       128\n",
      "   macro avg       0.61      0.61      0.61       128\n",
      "weighted avg       0.61      0.62      0.61       128\n",
      "\n",
      "0.5703125\n"
     ]
    }
   ],
   "source": [
    "predictions = model_5.predict(X_test)\n",
    "cm = confusion_matrix(y_test, predictions)\n",
    "\n",
    "print ('Confusion Matrix:\\n',cm, '\\n')\n",
    "print('Accuracy:', accuracy_score(y_test, predictions))\n",
    "print(\"Overall Precision:\",precision_score(y_test, predictions))\n",
    "print(\"Overall Recall:\",recall_score(y_test, predictions))\n",
    "print(classification_report(y_test, predictions))\n",
    "print(clf.score(X_test, y_test))"
   ]
  },
  {
   "cell_type": "code",
   "execution_count": 244,
   "id": "a5efec94-8f1e-4374-9e7a-2424e9c84cf9",
   "metadata": {},
   "outputs": [
    {
     "data": {
      "text/plain": [
       "0.515625"
      ]
     },
     "execution_count": 244,
     "metadata": {},
     "output_type": "execute_result"
    }
   ],
   "source": [
    "model = BaggingClassifier(estimator=KNeighborsClassifier(),\n",
    "                          n_estimators=100)\n",
    "\n",
    "model.fit(X_train, y_train)\n",
    "model.score(X_test, y_test)"
   ]
  },
  {
   "cell_type": "code",
   "execution_count": 245,
   "id": "2dc65ce7-6280-45d8-80fa-725a33456cc0",
   "metadata": {},
   "outputs": [
    {
     "data": {
      "text/plain": [
       "0.546875"
      ]
     },
     "execution_count": 245,
     "metadata": {},
     "output_type": "execute_result"
    }
   ],
   "source": [
    "model = RandomForestClassifier(n_estimators=100, max_depth=100)\n",
    "\n",
    "model.fit(X_train, y_train)\n",
    "model.score(X_test, y_test)"
   ]
  },
  {
   "cell_type": "code",
   "execution_count": 246,
   "id": "6861fbe3-9c9b-4223-ba03-f310c3ba0ba7",
   "metadata": {},
   "outputs": [
    {
     "name": "stdout",
     "output_type": "stream",
     "text": [
      "Confusion Matrix:\n",
      " [[38 34]\n",
      " [18 38]] \n",
      "\n",
      "Accuracy: 0.59375\n",
      "Overall Precision: 0.5277777777777778\n",
      "Overall Recall: 0.6785714285714286\n",
      "              precision    recall  f1-score   support\n",
      "\n",
      "         0.0       0.68      0.53      0.59        72\n",
      "         1.0       0.53      0.68      0.59        56\n",
      "\n",
      "    accuracy                           0.59       128\n",
      "   macro avg       0.60      0.60      0.59       128\n",
      "weighted avg       0.61      0.59      0.59       128\n",
      "\n",
      "0.59375\n"
     ]
    }
   ],
   "source": [
    "clf = KNeighborsClassifier(n_neighbors=7, algorithm='kd_tree', leaf_size=30)\n",
    "clf.fit(X_train, y_train)\n",
    "\n",
    "\n",
    "predictions = clf.predict(X_test)\n",
    "cm = confusion_matrix(y_test, predictions)\n",
    "\n",
    "print ('Confusion Matrix:\\n',cm, '\\n')\n",
    "print('Accuracy:', accuracy_score(y_test, predictions))\n",
    "print(\"Overall Precision:\",precision_score(y_test, predictions))\n",
    "print(\"Overall Recall:\",recall_score(y_test, predictions))\n",
    "print(classification_report(y_test, predictions))\n",
    "print(clf.score(X_test, y_test))"
   ]
  },
  {
   "cell_type": "code",
   "execution_count": 247,
   "id": "d59ba926-79df-437e-ad07-ce8d6936759d",
   "metadata": {},
   "outputs": [
    {
     "data": {
      "text/html": [
       "<style>#sk-container-id-9 {color: black;background-color: white;}#sk-container-id-9 pre{padding: 0;}#sk-container-id-9 div.sk-toggleable {background-color: white;}#sk-container-id-9 label.sk-toggleable__label {cursor: pointer;display: block;width: 100%;margin-bottom: 0;padding: 0.3em;box-sizing: border-box;text-align: center;}#sk-container-id-9 label.sk-toggleable__label-arrow:before {content: \"▸\";float: left;margin-right: 0.25em;color: #696969;}#sk-container-id-9 label.sk-toggleable__label-arrow:hover:before {color: black;}#sk-container-id-9 div.sk-estimator:hover label.sk-toggleable__label-arrow:before {color: black;}#sk-container-id-9 div.sk-toggleable__content {max-height: 0;max-width: 0;overflow: hidden;text-align: left;background-color: #f0f8ff;}#sk-container-id-9 div.sk-toggleable__content pre {margin: 0.2em;color: black;border-radius: 0.25em;background-color: #f0f8ff;}#sk-container-id-9 input.sk-toggleable__control:checked~div.sk-toggleable__content {max-height: 200px;max-width: 100%;overflow: auto;}#sk-container-id-9 input.sk-toggleable__control:checked~label.sk-toggleable__label-arrow:before {content: \"▾\";}#sk-container-id-9 div.sk-estimator input.sk-toggleable__control:checked~label.sk-toggleable__label {background-color: #d4ebff;}#sk-container-id-9 div.sk-label input.sk-toggleable__control:checked~label.sk-toggleable__label {background-color: #d4ebff;}#sk-container-id-9 input.sk-hidden--visually {border: 0;clip: rect(1px 1px 1px 1px);clip: rect(1px, 1px, 1px, 1px);height: 1px;margin: -1px;overflow: hidden;padding: 0;position: absolute;width: 1px;}#sk-container-id-9 div.sk-estimator {font-family: monospace;background-color: #f0f8ff;border: 1px dotted black;border-radius: 0.25em;box-sizing: border-box;margin-bottom: 0.5em;}#sk-container-id-9 div.sk-estimator:hover {background-color: #d4ebff;}#sk-container-id-9 div.sk-parallel-item::after {content: \"\";width: 100%;border-bottom: 1px solid gray;flex-grow: 1;}#sk-container-id-9 div.sk-label:hover label.sk-toggleable__label {background-color: #d4ebff;}#sk-container-id-9 div.sk-serial::before {content: \"\";position: absolute;border-left: 1px solid gray;box-sizing: border-box;top: 0;bottom: 0;left: 50%;z-index: 0;}#sk-container-id-9 div.sk-serial {display: flex;flex-direction: column;align-items: center;background-color: white;padding-right: 0.2em;padding-left: 0.2em;position: relative;}#sk-container-id-9 div.sk-item {position: relative;z-index: 1;}#sk-container-id-9 div.sk-parallel {display: flex;align-items: stretch;justify-content: center;background-color: white;position: relative;}#sk-container-id-9 div.sk-item::before, #sk-container-id-9 div.sk-parallel-item::before {content: \"\";position: absolute;border-left: 1px solid gray;box-sizing: border-box;top: 0;bottom: 0;left: 50%;z-index: -1;}#sk-container-id-9 div.sk-parallel-item {display: flex;flex-direction: column;z-index: 1;position: relative;background-color: white;}#sk-container-id-9 div.sk-parallel-item:first-child::after {align-self: flex-end;width: 50%;}#sk-container-id-9 div.sk-parallel-item:last-child::after {align-self: flex-start;width: 50%;}#sk-container-id-9 div.sk-parallel-item:only-child::after {width: 0;}#sk-container-id-9 div.sk-dashed-wrapped {border: 1px dashed gray;margin: 0 0.4em 0.5em 0.4em;box-sizing: border-box;padding-bottom: 0.4em;background-color: white;}#sk-container-id-9 div.sk-label label {font-family: monospace;font-weight: bold;display: inline-block;line-height: 1.2em;}#sk-container-id-9 div.sk-label-container {text-align: center;}#sk-container-id-9 div.sk-container {/* jupyter's `normalize.less` sets `[hidden] { display: none; }` but bootstrap.min.css set `[hidden] { display: none !important; }` so we also need the `!important` here to be able to override the default hidden behavior on the sphinx rendered scikit-learn.org. See: https://github.com/scikit-learn/scikit-learn/issues/21755 */display: inline-block !important;position: relative;}#sk-container-id-9 div.sk-text-repr-fallback {display: none;}</style><div id=\"sk-container-id-9\" class=\"sk-top-container\"><div class=\"sk-text-repr-fallback\"><pre>VotingClassifier(estimators=[(&#x27;dt&#x27;, DecisionTreeClassifier(max_depth=4)),\n",
       "                             (&#x27;knn&#x27;, KNeighborsClassifier(n_neighbors=7)),\n",
       "                             (&#x27;ada&#x27;, AdaBoostClassifier())],\n",
       "                 voting=&#x27;soft&#x27;, weights=[2, 1, 2])</pre><b>In a Jupyter environment, please rerun this cell to show the HTML representation or trust the notebook. <br />On GitHub, the HTML representation is unable to render, please try loading this page with nbviewer.org.</b></div><div class=\"sk-container\" hidden><div class=\"sk-item sk-dashed-wrapped\"><div class=\"sk-label-container\"><div class=\"sk-label sk-toggleable\"><input class=\"sk-toggleable__control sk-hidden--visually\" id=\"sk-estimator-id-33\" type=\"checkbox\" ><label for=\"sk-estimator-id-33\" class=\"sk-toggleable__label sk-toggleable__label-arrow\">VotingClassifier</label><div class=\"sk-toggleable__content\"><pre>VotingClassifier(estimators=[(&#x27;dt&#x27;, DecisionTreeClassifier(max_depth=4)),\n",
       "                             (&#x27;knn&#x27;, KNeighborsClassifier(n_neighbors=7)),\n",
       "                             (&#x27;ada&#x27;, AdaBoostClassifier())],\n",
       "                 voting=&#x27;soft&#x27;, weights=[2, 1, 2])</pre></div></div></div><div class=\"sk-parallel\"><div class=\"sk-parallel-item\"><div class=\"sk-item\"><div class=\"sk-label-container\"><div class=\"sk-label sk-toggleable\"><label>dt</label></div></div><div class=\"sk-serial\"><div class=\"sk-item\"><div class=\"sk-estimator sk-toggleable\"><input class=\"sk-toggleable__control sk-hidden--visually\" id=\"sk-estimator-id-34\" type=\"checkbox\" ><label for=\"sk-estimator-id-34\" class=\"sk-toggleable__label sk-toggleable__label-arrow\">DecisionTreeClassifier</label><div class=\"sk-toggleable__content\"><pre>DecisionTreeClassifier(max_depth=4)</pre></div></div></div></div></div></div><div class=\"sk-parallel-item\"><div class=\"sk-item\"><div class=\"sk-label-container\"><div class=\"sk-label sk-toggleable\"><label>knn</label></div></div><div class=\"sk-serial\"><div class=\"sk-item\"><div class=\"sk-estimator sk-toggleable\"><input class=\"sk-toggleable__control sk-hidden--visually\" id=\"sk-estimator-id-35\" type=\"checkbox\" ><label for=\"sk-estimator-id-35\" class=\"sk-toggleable__label sk-toggleable__label-arrow\">KNeighborsClassifier</label><div class=\"sk-toggleable__content\"><pre>KNeighborsClassifier(n_neighbors=7)</pre></div></div></div></div></div></div><div class=\"sk-parallel-item\"><div class=\"sk-item\"><div class=\"sk-label-container\"><div class=\"sk-label sk-toggleable\"><label>ada</label></div></div><div class=\"sk-serial\"><div class=\"sk-item\"><div class=\"sk-estimator sk-toggleable\"><input class=\"sk-toggleable__control sk-hidden--visually\" id=\"sk-estimator-id-36\" type=\"checkbox\" ><label for=\"sk-estimator-id-36\" class=\"sk-toggleable__label sk-toggleable__label-arrow\">AdaBoostClassifier</label><div class=\"sk-toggleable__content\"><pre>AdaBoostClassifier()</pre></div></div></div></div></div></div></div></div></div></div>"
      ],
      "text/plain": [
       "VotingClassifier(estimators=[('dt', DecisionTreeClassifier(max_depth=4)),\n",
       "                             ('knn', KNeighborsClassifier(n_neighbors=7)),\n",
       "                             ('ada', AdaBoostClassifier())],\n",
       "                 voting='soft', weights=[2, 1, 2])"
      ]
     },
     "execution_count": 247,
     "metadata": {},
     "output_type": "execute_result"
    }
   ],
   "source": [
    "clf1 = DecisionTreeClassifier(max_depth=4)\n",
    "clf2 = KNeighborsClassifier(n_neighbors=7)\n",
    "clf3 = AdaBoostClassifier(n_estimators=50)\n",
    "eclf = VotingClassifier(\n",
    "    estimators=[(\"dt\", clf1), (\"knn\", clf2), (\"ada\", clf3)],\n",
    "    voting=\"soft\",\n",
    "    weights=[2, 1, 2],\n",
    ")\n",
    "\n",
    "clf1.fit(X_train, y_train)\n",
    "clf2.fit(X_train, y_train)\n",
    "clf3.fit(X_train, y_train)\n",
    "eclf.fit(X_train, y_train)"
   ]
  },
  {
   "cell_type": "code",
   "execution_count": 248,
   "id": "3409078e-f5cc-4a0d-ab7b-608906d7ea52",
   "metadata": {},
   "outputs": [
    {
     "name": "stdout",
     "output_type": "stream",
     "text": [
      "0.609375\n",
      "0.59375\n",
      "0.5703125\n",
      "0.6328125\n"
     ]
    }
   ],
   "source": [
    "print(clf1.score(X_test, y_test))\n",
    "print(clf2.score(X_test, y_test))\n",
    "print(clf3.score(X_test, y_test))\n",
    "print(eclf.score(X_test, y_test))"
   ]
  },
  {
   "cell_type": "code",
   "execution_count": 249,
   "id": "bcef8c63-1106-4351-bf4a-c0c5258f1e12",
   "metadata": {},
   "outputs": [
    {
     "name": "stdout",
     "output_type": "stream",
     "text": [
      "Confusion Matrix:\n",
      " [[39 33]\n",
      " [14 42]] \n",
      "\n",
      "Accuracy: 0.6328125\n",
      "Overall Precision: 0.56\n",
      "Overall Recall: 0.75\n",
      "              precision    recall  f1-score   support\n",
      "\n",
      "         0.0       0.74      0.54      0.62        72\n",
      "         1.0       0.56      0.75      0.64        56\n",
      "\n",
      "    accuracy                           0.63       128\n",
      "   macro avg       0.65      0.65      0.63       128\n",
      "weighted avg       0.66      0.63      0.63       128\n",
      "\n",
      "0.59375\n"
     ]
    }
   ],
   "source": [
    "predictions = eclf.predict(X_test)\n",
    "cm = confusion_matrix(y_test, predictions)\n",
    "\n",
    "print ('Confusion Matrix:\\n',cm, '\\n')\n",
    "print('Accuracy:', accuracy_score(y_test, predictions))\n",
    "print(\"Overall Precision:\",precision_score(y_test, predictions))\n",
    "print(\"Overall Recall:\",recall_score(y_test, predictions))\n",
    "print(classification_report(y_test, predictions))\n",
    "print(clf.score(X_test, y_test))"
   ]
  },
  {
   "cell_type": "code",
   "execution_count": 250,
   "id": "5190a3a2-d4be-4abd-a3f9-15d607515338",
   "metadata": {},
   "outputs": [],
   "source": [
    "classifiers = [\n",
    "    KNeighborsClassifier(3),\n",
    "    SVC(kernel=\"linear\", C=0.025),\n",
    "    SVC(gamma=2, C=1),\n",
    "    GaussianProcessClassifier(1.0 * RBF(1.0)),\n",
    "    DecisionTreeClassifier(max_depth=5),\n",
    "    RandomForestClassifier(max_depth=5, n_estimators=10, max_features=1),\n",
    "    MLPClassifier(alpha=1, max_iter=1000),\n",
    "    AdaBoostClassifier(),\n",
    "    GaussianNB(),\n",
    "    QuadraticDiscriminantAnalysis(),\n",
    "]"
   ]
  },
  {
   "cell_type": "code",
   "execution_count": 251,
   "id": "cb49fcf0-e1ad-4ab7-81dc-e640e8fa3ebe",
   "metadata": {},
   "outputs": [
    {
     "name": "stdout",
     "output_type": "stream",
     "text": [
      "Confusion Matrix:\n",
      " [[52 20]\n",
      " [32 24]] \n",
      "\n",
      "Accuracy: 0.59375\n",
      "Overall Precision: 0.5454545454545454\n",
      "Overall Recall: 0.42857142857142855\n",
      "              precision    recall  f1-score   support\n",
      "\n",
      "         0.0       0.62      0.72      0.67        72\n",
      "         1.0       0.55      0.43      0.48        56\n",
      "\n",
      "    accuracy                           0.59       128\n",
      "   macro avg       0.58      0.58      0.57       128\n",
      "weighted avg       0.59      0.59      0.58       128\n",
      "\n",
      "0.59375\n"
     ]
    }
   ],
   "source": [
    "clf = GaussianNB()\n",
    "clf.fit(X_train, y_train)\n",
    "\n",
    "\n",
    "predictions = clf.predict(X_test)\n",
    "cm = confusion_matrix(y_test, predictions)\n",
    "\n",
    "print ('Confusion Matrix:\\n',cm, '\\n')\n",
    "print('Accuracy:', accuracy_score(y_test, predictions))\n",
    "print(\"Overall Precision:\",precision_score(y_test, predictions))\n",
    "print(\"Overall Recall:\",recall_score(y_test, predictions))\n",
    "print(classification_report(y_test, predictions))\n",
    "print(clf.score(X_test, y_test))"
   ]
  },
  {
   "cell_type": "code",
   "execution_count": 252,
   "id": "2c44bc6b-34f3-45ca-b549-82d36ff7d130",
   "metadata": {},
   "outputs": [
    {
     "name": "stdout",
     "output_type": "stream",
     "text": [
      "Confusion Matrix:\n",
      " [[52 20]\n",
      " [32 24]] \n",
      "\n",
      "Accuracy: 0.59375\n",
      "Overall Precision: 0.5454545454545454\n",
      "Overall Recall: 0.42857142857142855\n",
      "              precision    recall  f1-score   support\n",
      "\n",
      "         0.0       0.62      0.72      0.67        72\n",
      "         1.0       0.55      0.43      0.48        56\n",
      "\n",
      "    accuracy                           0.59       128\n",
      "   macro avg       0.58      0.58      0.57       128\n",
      "weighted avg       0.59      0.59      0.58       128\n",
      "\n",
      "0.59375\n"
     ]
    }
   ],
   "source": [
    "model = make_pipeline(PolynomialFeatures(),\n",
    "                     RobustScaler(),\n",
    "                     GaussianNB())\n",
    "\n",
    "params = {\n",
    "    'polynomialfeatures__degree': [1,2,3,4]\n",
    "}\n",
    "\n",
    "grid = GridSearchCV(model, param_grid=params, cv=4)\n",
    "\n",
    "grid.fit(X_train, y_train)\n",
    "grid.best_params_\n",
    "\n",
    "predictions = grid.predict(X_test)\n",
    "cm = confusion_matrix(y_test, predictions)\n",
    "\n",
    "print ('Confusion Matrix:\\n',cm, '\\n')\n",
    "print('Accuracy:', accuracy_score(y_test, predictions))\n",
    "print(\"Overall Precision:\",precision_score(y_test, predictions))\n",
    "print(\"Overall Recall:\",recall_score(y_test, predictions))\n",
    "print(classification_report(y_test, predictions))\n",
    "print(clf.score(X_test, y_test))"
   ]
  },
  {
   "cell_type": "code",
   "execution_count": null,
   "id": "74144b2d-2c5f-4960-b40c-2df7b999f7d1",
   "metadata": {},
   "outputs": [],
   "source": []
  }
 ],
 "metadata": {
  "kernelspec": {
   "display_name": "Python 3 (ipykernel)",
   "language": "python",
   "name": "python3"
  },
  "language_info": {
   "codemirror_mode": {
    "name": "ipython",
    "version": 3
   },
   "file_extension": ".py",
   "mimetype": "text/x-python",
   "name": "python",
   "nbconvert_exporter": "python",
   "pygments_lexer": "ipython3",
   "version": "3.10.8"
  }
 },
 "nbformat": 4,
 "nbformat_minor": 5
}
