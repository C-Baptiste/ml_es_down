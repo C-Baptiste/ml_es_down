{
 "cells": [
  {
   "cell_type": "code",
   "execution_count": 86,
   "id": "a7627ffb-ba9d-45e9-91ec-6fdd4980f27e",
   "metadata": {},
   "outputs": [],
   "source": [
    "import os\n",
    "import pandas as pd\n",
    "import matplotlib.pyplot as plt\n",
    "import matplotlib as mpl\n",
    "import numpy as np\n",
    "from sklearn.model_selection import train_test_split\n",
    "from sklearn.model_selection import GridSearchCV\n",
    "from sklearn.preprocessing import PolynomialFeatures\n",
    "from sklearn.preprocessing import RobustScaler\n",
    "from sklearn.linear_model import SGDClassifier\n",
    "from sklearn.ensemble import RandomForestClassifier\n",
    "from sklearn.compose import ColumnTransformer\n",
    "from sklearn.pipeline import Pipeline\n",
    "from sklearn.preprocessing import StandardScaler, OneHotEncoder\n",
    "from sklearn.linear_model import LogisticRegression\n",
    "from sklearn.pipeline import make_pipeline\n",
    "from sklearn.metrics import roc_curve\n",
    "from sklearn.metrics import confusion_matrix\n",
    "from sklearn.metrics import precision_score, recall_score\n",
    "from sklearn. metrics import classification_report\n",
    "from sklearn.metrics import accuracy_score\n",
    "from sklearn.metrics import roc_auc_score\n",
    "from sklearn.feature_selection import VarianceThreshold\n",
    "from sklearn.feature_selection import SelectKBest, chi2\n",
    "from sklearn.feature_selection import SelectFromModel\n",
    "from sklearn.preprocessing import MinMaxScaler\n",
    "from sklearn.neighbors import KNeighborsClassifier\n",
    "from sklearn.tree import DecisionTreeClassifier\n",
    "from sklearn.svm import LinearSVC\n",
    "from sklearn.svm import SVC\n",
    "from sklearn.svm import NuSVC\n",
    "from sklearn.neighbors import NearestNeighbors\n",
    "from sklearn.neighbors import RadiusNeighborsClassifier\n",
    "from sklearn.ensemble import AdaBoostClassifier\n",
    "from sklearn.ensemble import VotingClassifier\n",
    "from sklearn.ensemble import BaggingClassifier, StackingClassifier\n",
    "from sklearn.gaussian_process.kernels import RBF\n",
    "from sklearn.gaussian_process import GaussianProcessClassifier\n",
    "from sklearn.discriminant_analysis import QuadraticDiscriminantAnalysis\n",
    "from sklearn.neural_network import MLPClassifier\n",
    "from sklearn.naive_bayes import GaussianNB\n",
    "from sklearn.naive_bayes import CategoricalNB\n",
    "import tensorflow as tf\n",
    "from tensorflow import keras\n",
    "import tempfile\n",
    "import matplotlib\n",
    "from sklearn.decomposition import PCA\n",
    "import seaborn as sns\n",
    "%matplotlib inline"
   ]
  },
  {
   "cell_type": "code",
   "execution_count": 87,
   "id": "02feff09-6925-4a87-bd31-78995333b7a9",
   "metadata": {},
   "outputs": [
    {
     "name": "stdout",
     "output_type": "stream",
     "text": [
      "Training cases: 296\n",
      "Test cases: 128\n"
     ]
    }
   ],
   "source": [
    "df = pd.read_csv(\"df_m1_lower_.csv\", sep=\";\")\n",
    "\n",
    "features = [         \n",
    "            'diff_h_l_0',\n",
    "            'diff_o_c_0',\n",
    "            'diff_h_o_0',\n",
    "            'diff_c_l_0',\n",
    "            'vol_total_0',\n",
    "            'vol_buy_0',\n",
    "            'vol_sell_0',\n",
    "            'vol_other_0',\n",
    "            'nb_tick_total_0',\n",
    "            'nb_tick_buy_0',\n",
    "            'nb_tick_sell_0',\n",
    "            'nb_tick_other_0',\n",
    "            'nb_price_changed_0',\n",
    "            'rsi2',\n",
    "            'rsi1',\n",
    "            'rsi0',\n",
    "            #'rsi2_long',\n",
    "            #'rsi1_long',\n",
    "            #'rsi0_long',\n",
    "            'std2',\n",
    "            'std1',\n",
    "            'std0',\n",
    "            'std2_long',\n",
    "            'std1_long',\n",
    "            'std0_long',\n",
    "            #'diff_h_l_20',\n",
    "            #'diff_h_l_10'\n",
    "            ]\n",
    "\n",
    "label = 'is_lower'\n",
    "X, y = df[features].values, df[label].values\n",
    "\n",
    "X_train, X_test, y_train, y_test = train_test_split(X, y, test_size=0.30, random_state=0)\n",
    "\n",
    "print('Training cases: %d\\nTest cases: %d' % (X_train.shape[0], X_test.shape[0]))"
   ]
  },
  {
   "cell_type": "code",
   "execution_count": null,
   "id": "030c26b7-dbd0-4a53-90c5-e510d1af4a0a",
   "metadata": {},
   "outputs": [],
   "source": []
  }
 ],
 "metadata": {
  "kernelspec": {
   "display_name": "Python 3 (ipykernel)",
   "language": "python",
   "name": "python3"
  },
  "language_info": {
   "codemirror_mode": {
    "name": "ipython",
    "version": 3
   },
   "file_extension": ".py",
   "mimetype": "text/x-python",
   "name": "python",
   "nbconvert_exporter": "python",
   "pygments_lexer": "ipython3",
   "version": "3.10.8"
  }
 },
 "nbformat": 4,
 "nbformat_minor": 5
}
